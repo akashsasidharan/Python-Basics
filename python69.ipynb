{
  "nbformat": 4,
  "nbformat_minor": 0,
  "metadata": {
    "colab": {
      "name": "python69",
      "provenance": [],
      "collapsed_sections": []
    },
    "kernelspec": {
      "name": "python3",
      "display_name": "Python 3"
    },
    "language_info": {
      "name": "python"
    }
  },
  "cells": [
    {
      "cell_type": "code",
      "execution_count": 5,
      "metadata": {
        "id": "kVdptqQ20MMD"
      },
      "outputs": [],
      "source": [
        "x=20"
      ]
    },
    {
      "cell_type": "code",
      "source": [
        "if x>10 :\n",
        "  print('x is greater than 10')\n",
        "  "
      ],
      "metadata": {
        "colab": {
          "base_uri": "https://localhost:8080/"
        },
        "id": "KJS2jiHK0VzJ",
        "outputId": "bc89ec68-b195-4924-bcb4-fc0f5cca5820"
      },
      "execution_count": 6,
      "outputs": [
        {
          "output_type": "stream",
          "name": "stdout",
          "text": [
            "x is greater than 10\n"
          ]
        }
      ]
    },
    {
      "cell_type": "code",
      "source": [
        "x=20\n",
        "if x>10:\n",
        "  print('x greater than 10')\n",
        "if x<10:\n",
        "  print('x less than 10')\n",
        "if x==10:\n",
        "  print('x equal to 10')  \n",
        "\n",
        "\n"
      ],
      "metadata": {
        "colab": {
          "base_uri": "https://localhost:8080/"
        },
        "id": "uYYvcRxG1EYg",
        "outputId": "d48942f0-0653-466a-a3a9-e3d94003feb4"
      },
      "execution_count": 9,
      "outputs": [
        {
          "output_type": "stream",
          "name": "stdout",
          "text": [
            "x greater than 10\n"
          ]
        }
      ]
    },
    {
      "cell_type": "code",
      "source": [
        "x=int(input('enter a number'))\n",
        "\n",
        "if x>100:\n",
        "  print('pass')\n",
        "if x<100:\n",
        "  print('fail')\n",
        "if x==100:\n",
        "  print('pass')  \n",
        "\n"
      ],
      "metadata": {
        "colab": {
          "base_uri": "https://localhost:8080/"
        },
        "id": "Epm5fYK43qb3",
        "outputId": "4783de3c-af81-4ded-f8b7-06345bec6430"
      },
      "execution_count": 1,
      "outputs": [
        {
          "output_type": "stream",
          "name": "stdout",
          "text": [
            "enter a number100\n",
            "pass\n"
          ]
        }
      ]
    },
    {
      "cell_type": "code",
      "source": [
        "x=int(input('enter salary'))\n",
        "if x>250000:\n",
        "  print(x*10/100)\n",
        "if x<250000:\n",
        "  print('no tax')\n",
        "\n"
      ],
      "metadata": {
        "colab": {
          "base_uri": "https://localhost:8080/"
        },
        "id": "DYOthoIG89hi",
        "outputId": "28ed7d41-9927-42aa-caa3-7f349a1d650c"
      },
      "execution_count": 6,
      "outputs": [
        {
          "output_type": "stream",
          "name": "stdout",
          "text": [
            "enter salary300000\n",
            "30000.0\n"
          ]
        }
      ]
    },
    {
      "cell_type": "code",
      "source": [
        "\n"
      ],
      "metadata": {
        "id": "erRup_w0C02j"
      },
      "execution_count": null,
      "outputs": []
    }
  ]
}